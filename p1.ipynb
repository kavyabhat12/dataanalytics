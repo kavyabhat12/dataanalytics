{
 "cells": [
  {
   "cell_type": "code",
   "execution_count": 1,
   "id": "dfafba4d",
   "metadata": {},
   "outputs": [],
   "source": [
    "import pandas as pd"
   ]
  },
  {
   "cell_type": "code",
   "execution_count": 2,
   "id": "edd84567",
   "metadata": {},
   "outputs": [],
   "source": [
    "import io"
   ]
  },
  {
   "cell_type": "code",
   "execution_count": 3,
   "id": "dbc5d13c",
   "metadata": {},
   "outputs": [],
   "source": [
    "import numpy as np"
   ]
  },
  {
   "cell_type": "code",
   "execution_count": 7,
   "id": "2d943326",
   "metadata": {},
   "outputs": [],
   "source": [
    "data=pd.read_csv(\"p1.csv\")"
   ]
  },
  {
   "cell_type": "code",
   "execution_count": 8,
   "id": "d512ac24",
   "metadata": {},
   "outputs": [
    {
     "data": {
      "text/html": [
       "<div>\n",
       "<style scoped>\n",
       "    .dataframe tbody tr th:only-of-type {\n",
       "        vertical-align: middle;\n",
       "    }\n",
       "\n",
       "    .dataframe tbody tr th {\n",
       "        vertical-align: top;\n",
       "    }\n",
       "\n",
       "    .dataframe thead th {\n",
       "        text-align: right;\n",
       "    }\n",
       "</style>\n",
       "<table border=\"1\" class=\"dataframe\">\n",
       "  <thead>\n",
       "    <tr style=\"text-align: right;\">\n",
       "      <th></th>\n",
       "      <th>sl_no</th>\n",
       "      <th>name</th>\n",
       "      <th>qualification</th>\n",
       "      <th>phone</th>\n",
       "      <th>address</th>\n",
       "    </tr>\n",
       "  </thead>\n",
       "  <tbody>\n",
       "    <tr>\n",
       "      <th>0</th>\n",
       "      <td>1</td>\n",
       "      <td>adi</td>\n",
       "      <td>msc</td>\n",
       "      <td>1589637.0</td>\n",
       "      <td>xyz</td>\n",
       "    </tr>\n",
       "    <tr>\n",
       "      <th>1</th>\n",
       "      <td>2</td>\n",
       "      <td>ram</td>\n",
       "      <td>mca</td>\n",
       "      <td>78956235.0</td>\n",
       "      <td>NaN</td>\n",
       "    </tr>\n",
       "    <tr>\n",
       "      <th>2</th>\n",
       "      <td>3</td>\n",
       "      <td>shree</td>\n",
       "      <td>mba</td>\n",
       "      <td>NaN</td>\n",
       "      <td>jjjj</td>\n",
       "    </tr>\n",
       "    <tr>\n",
       "      <th>3</th>\n",
       "      <td>4</td>\n",
       "      <td>raj</td>\n",
       "      <td>be</td>\n",
       "      <td>5898565.0</td>\n",
       "      <td>lllllll</td>\n",
       "    </tr>\n",
       "    <tr>\n",
       "      <th>4</th>\n",
       "      <td>5</td>\n",
       "      <td>geeta</td>\n",
       "      <td>bca</td>\n",
       "      <td>NaN</td>\n",
       "      <td>pppppp</td>\n",
       "    </tr>\n",
       "  </tbody>\n",
       "</table>\n",
       "</div>"
      ],
      "text/plain": [
       "   sl_no   name qualification       phone  address\n",
       "0      1    adi           msc   1589637.0      xyz\n",
       "1      2    ram           mca  78956235.0      NaN\n",
       "2      3  shree           mba         NaN     jjjj\n",
       "3      4    raj            be   5898565.0  lllllll\n",
       "4      5  geeta           bca         NaN   pppppp"
      ]
     },
     "execution_count": 8,
     "metadata": {},
     "output_type": "execute_result"
    }
   ],
   "source": [
    "data.head(5)"
   ]
  },
  {
   "cell_type": "code",
   "execution_count": 10,
   "id": "010dbd3f",
   "metadata": {},
   "outputs": [],
   "source": [
    "data.drop_duplicates(subset=[\"name\"],keep=\"last\",inplace=True)"
   ]
  },
  {
   "cell_type": "code",
   "execution_count": 11,
   "id": "278e6340",
   "metadata": {},
   "outputs": [
    {
     "data": {
      "text/html": [
       "<div>\n",
       "<style scoped>\n",
       "    .dataframe tbody tr th:only-of-type {\n",
       "        vertical-align: middle;\n",
       "    }\n",
       "\n",
       "    .dataframe tbody tr th {\n",
       "        vertical-align: top;\n",
       "    }\n",
       "\n",
       "    .dataframe thead th {\n",
       "        text-align: right;\n",
       "    }\n",
       "</style>\n",
       "<table border=\"1\" class=\"dataframe\">\n",
       "  <thead>\n",
       "    <tr style=\"text-align: right;\">\n",
       "      <th></th>\n",
       "      <th>sl_no</th>\n",
       "      <th>name</th>\n",
       "      <th>qualification</th>\n",
       "      <th>phone</th>\n",
       "      <th>address</th>\n",
       "    </tr>\n",
       "  </thead>\n",
       "  <tbody>\n",
       "    <tr>\n",
       "      <th>0</th>\n",
       "      <td>1</td>\n",
       "      <td>adi</td>\n",
       "      <td>msc</td>\n",
       "      <td>1589637.0</td>\n",
       "      <td>xyz</td>\n",
       "    </tr>\n",
       "    <tr>\n",
       "      <th>1</th>\n",
       "      <td>2</td>\n",
       "      <td>ram</td>\n",
       "      <td>mca</td>\n",
       "      <td>78956235.0</td>\n",
       "      <td>NaN</td>\n",
       "    </tr>\n",
       "    <tr>\n",
       "      <th>2</th>\n",
       "      <td>3</td>\n",
       "      <td>shree</td>\n",
       "      <td>mba</td>\n",
       "      <td>NaN</td>\n",
       "      <td>jjjj</td>\n",
       "    </tr>\n",
       "    <tr>\n",
       "      <th>3</th>\n",
       "      <td>4</td>\n",
       "      <td>raj</td>\n",
       "      <td>be</td>\n",
       "      <td>5898565.0</td>\n",
       "      <td>lllllll</td>\n",
       "    </tr>\n",
       "    <tr>\n",
       "      <th>4</th>\n",
       "      <td>5</td>\n",
       "      <td>geeta</td>\n",
       "      <td>bca</td>\n",
       "      <td>NaN</td>\n",
       "      <td>pppppp</td>\n",
       "    </tr>\n",
       "    <tr>\n",
       "      <th>5</th>\n",
       "      <td>6</td>\n",
       "      <td>lata</td>\n",
       "      <td>bba</td>\n",
       "      <td>5457878.0</td>\n",
       "      <td>ddddd</td>\n",
       "    </tr>\n",
       "    <tr>\n",
       "      <th>6</th>\n",
       "      <td>7</td>\n",
       "      <td>seeta</td>\n",
       "      <td>bcom</td>\n",
       "      <td>2556487.0</td>\n",
       "      <td>aaaaa</td>\n",
       "    </tr>\n",
       "    <tr>\n",
       "      <th>7</th>\n",
       "      <td>8</td>\n",
       "      <td>ratna</td>\n",
       "      <td>bca</td>\n",
       "      <td>4545444.0</td>\n",
       "      <td>NaN</td>\n",
       "    </tr>\n",
       "    <tr>\n",
       "      <th>8</th>\n",
       "      <td>9</td>\n",
       "      <td>raji</td>\n",
       "      <td>mca</td>\n",
       "      <td>254554768.0</td>\n",
       "      <td>hhhhhhh</td>\n",
       "    </tr>\n",
       "  </tbody>\n",
       "</table>\n",
       "</div>"
      ],
      "text/plain": [
       "   sl_no   name qualification        phone  address\n",
       "0      1    adi           msc    1589637.0      xyz\n",
       "1      2    ram           mca   78956235.0      NaN\n",
       "2      3  shree           mba          NaN     jjjj\n",
       "3      4    raj            be    5898565.0  lllllll\n",
       "4      5  geeta           bca          NaN   pppppp\n",
       "5      6   lata           bba    5457878.0    ddddd\n",
       "6      7  seeta          bcom    2556487.0    aaaaa\n",
       "7      8  ratna           bca    4545444.0      NaN\n",
       "8      9   raji           mca  254554768.0  hhhhhhh"
      ]
     },
     "execution_count": 11,
     "metadata": {},
     "output_type": "execute_result"
    }
   ],
   "source": [
    "data.head(10)"
   ]
  },
  {
   "cell_type": "code",
   "execution_count": 12,
   "id": "7dd90261",
   "metadata": {},
   "outputs": [
    {
     "data": {
      "text/plain": [
       "sl_no            0\n",
       "name             0\n",
       "qualification    0\n",
       "phone            2\n",
       "address          2\n",
       "dtype: int64"
      ]
     },
     "execution_count": 12,
     "metadata": {},
     "output_type": "execute_result"
    }
   ],
   "source": [
    "data.isnull().sum()"
   ]
  },
  {
   "cell_type": "code",
   "execution_count": 13,
   "id": "08a97faa",
   "metadata": {},
   "outputs": [
    {
     "name": "stdout",
     "output_type": "stream",
     "text": [
      "(9, 5)\n"
     ]
    }
   ],
   "source": [
    "print(data.shape)"
   ]
  },
  {
   "cell_type": "code",
   "execution_count": 14,
   "id": "558c6078",
   "metadata": {},
   "outputs": [],
   "source": [
    "df_dropped=data.dropna()"
   ]
  },
  {
   "cell_type": "code",
   "execution_count": 15,
   "id": "83fccec1",
   "metadata": {},
   "outputs": [
    {
     "data": {
      "text/html": [
       "<div>\n",
       "<style scoped>\n",
       "    .dataframe tbody tr th:only-of-type {\n",
       "        vertical-align: middle;\n",
       "    }\n",
       "\n",
       "    .dataframe tbody tr th {\n",
       "        vertical-align: top;\n",
       "    }\n",
       "\n",
       "    .dataframe thead th {\n",
       "        text-align: right;\n",
       "    }\n",
       "</style>\n",
       "<table border=\"1\" class=\"dataframe\">\n",
       "  <thead>\n",
       "    <tr style=\"text-align: right;\">\n",
       "      <th></th>\n",
       "      <th>sl_no</th>\n",
       "      <th>name</th>\n",
       "      <th>qualification</th>\n",
       "      <th>phone</th>\n",
       "      <th>address</th>\n",
       "    </tr>\n",
       "  </thead>\n",
       "  <tbody>\n",
       "    <tr>\n",
       "      <th>0</th>\n",
       "      <td>1</td>\n",
       "      <td>adi</td>\n",
       "      <td>msc</td>\n",
       "      <td>1589637.0</td>\n",
       "      <td>xyz</td>\n",
       "    </tr>\n",
       "    <tr>\n",
       "      <th>1</th>\n",
       "      <td>2</td>\n",
       "      <td>ram</td>\n",
       "      <td>mca</td>\n",
       "      <td>78956235.0</td>\n",
       "      <td>NaN</td>\n",
       "    </tr>\n",
       "    <tr>\n",
       "      <th>2</th>\n",
       "      <td>3</td>\n",
       "      <td>shree</td>\n",
       "      <td>mba</td>\n",
       "      <td>NaN</td>\n",
       "      <td>jjjj</td>\n",
       "    </tr>\n",
       "    <tr>\n",
       "      <th>3</th>\n",
       "      <td>4</td>\n",
       "      <td>raj</td>\n",
       "      <td>be</td>\n",
       "      <td>5898565.0</td>\n",
       "      <td>lllllll</td>\n",
       "    </tr>\n",
       "    <tr>\n",
       "      <th>4</th>\n",
       "      <td>5</td>\n",
       "      <td>geeta</td>\n",
       "      <td>bca</td>\n",
       "      <td>NaN</td>\n",
       "      <td>pppppp</td>\n",
       "    </tr>\n",
       "  </tbody>\n",
       "</table>\n",
       "</div>"
      ],
      "text/plain": [
       "   sl_no   name qualification       phone  address\n",
       "0      1    adi           msc   1589637.0      xyz\n",
       "1      2    ram           mca  78956235.0      NaN\n",
       "2      3  shree           mba         NaN     jjjj\n",
       "3      4    raj            be   5898565.0  lllllll\n",
       "4      5  geeta           bca         NaN   pppppp"
      ]
     },
     "execution_count": 15,
     "metadata": {},
     "output_type": "execute_result"
    }
   ],
   "source": [
    "data.head()"
   ]
  },
  {
   "cell_type": "code",
   "execution_count": 16,
   "id": "3efee02e",
   "metadata": {},
   "outputs": [],
   "source": [
    "data['address']=data['address'].fillna('sullia')"
   ]
  },
  {
   "cell_type": "code",
   "execution_count": 18,
   "id": "457f9c00",
   "metadata": {},
   "outputs": [
    {
     "data": {
      "text/html": [
       "<div>\n",
       "<style scoped>\n",
       "    .dataframe tbody tr th:only-of-type {\n",
       "        vertical-align: middle;\n",
       "    }\n",
       "\n",
       "    .dataframe tbody tr th {\n",
       "        vertical-align: top;\n",
       "    }\n",
       "\n",
       "    .dataframe thead th {\n",
       "        text-align: right;\n",
       "    }\n",
       "</style>\n",
       "<table border=\"1\" class=\"dataframe\">\n",
       "  <thead>\n",
       "    <tr style=\"text-align: right;\">\n",
       "      <th></th>\n",
       "      <th>sl_no</th>\n",
       "      <th>name</th>\n",
       "      <th>qualification</th>\n",
       "      <th>phone</th>\n",
       "      <th>address</th>\n",
       "    </tr>\n",
       "  </thead>\n",
       "  <tbody>\n",
       "    <tr>\n",
       "      <th>0</th>\n",
       "      <td>1</td>\n",
       "      <td>adi</td>\n",
       "      <td>msc</td>\n",
       "      <td>1589637.0</td>\n",
       "      <td>xyz</td>\n",
       "    </tr>\n",
       "    <tr>\n",
       "      <th>1</th>\n",
       "      <td>2</td>\n",
       "      <td>ram</td>\n",
       "      <td>mca</td>\n",
       "      <td>78956235.0</td>\n",
       "      <td>sullia</td>\n",
       "    </tr>\n",
       "    <tr>\n",
       "      <th>2</th>\n",
       "      <td>3</td>\n",
       "      <td>shree</td>\n",
       "      <td>mba</td>\n",
       "      <td>NaN</td>\n",
       "      <td>jjjj</td>\n",
       "    </tr>\n",
       "    <tr>\n",
       "      <th>3</th>\n",
       "      <td>4</td>\n",
       "      <td>raj</td>\n",
       "      <td>be</td>\n",
       "      <td>5898565.0</td>\n",
       "      <td>lllllll</td>\n",
       "    </tr>\n",
       "    <tr>\n",
       "      <th>4</th>\n",
       "      <td>5</td>\n",
       "      <td>geeta</td>\n",
       "      <td>bca</td>\n",
       "      <td>NaN</td>\n",
       "      <td>pppppp</td>\n",
       "    </tr>\n",
       "    <tr>\n",
       "      <th>5</th>\n",
       "      <td>6</td>\n",
       "      <td>lata</td>\n",
       "      <td>bba</td>\n",
       "      <td>5457878.0</td>\n",
       "      <td>ddddd</td>\n",
       "    </tr>\n",
       "    <tr>\n",
       "      <th>6</th>\n",
       "      <td>7</td>\n",
       "      <td>seeta</td>\n",
       "      <td>bcom</td>\n",
       "      <td>2556487.0</td>\n",
       "      <td>aaaaa</td>\n",
       "    </tr>\n",
       "    <tr>\n",
       "      <th>7</th>\n",
       "      <td>8</td>\n",
       "      <td>ratna</td>\n",
       "      <td>bca</td>\n",
       "      <td>4545444.0</td>\n",
       "      <td>sullia</td>\n",
       "    </tr>\n",
       "    <tr>\n",
       "      <th>8</th>\n",
       "      <td>9</td>\n",
       "      <td>raji</td>\n",
       "      <td>mca</td>\n",
       "      <td>254554768.0</td>\n",
       "      <td>hhhhhhh</td>\n",
       "    </tr>\n",
       "  </tbody>\n",
       "</table>\n",
       "</div>"
      ],
      "text/plain": [
       "   sl_no   name qualification        phone  address\n",
       "0      1    adi           msc    1589637.0      xyz\n",
       "1      2    ram           mca   78956235.0   sullia\n",
       "2      3  shree           mba          NaN     jjjj\n",
       "3      4    raj            be    5898565.0  lllllll\n",
       "4      5  geeta           bca          NaN   pppppp\n",
       "5      6   lata           bba    5457878.0    ddddd\n",
       "6      7  seeta          bcom    2556487.0    aaaaa\n",
       "7      8  ratna           bca    4545444.0   sullia\n",
       "8      9   raji           mca  254554768.0  hhhhhhh"
      ]
     },
     "execution_count": 18,
     "metadata": {},
     "output_type": "execute_result"
    }
   ],
   "source": [
    "data.head(10)"
   ]
  },
  {
   "cell_type": "code",
   "execution_count": 20,
   "id": "40574b2c",
   "metadata": {},
   "outputs": [],
   "source": [
    "mean_val=data['phone'].mean()"
   ]
  },
  {
   "cell_type": "code",
   "execution_count": 21,
   "id": "827f3d39",
   "metadata": {},
   "outputs": [],
   "source": [
    "data['phone']=data['phone'].fillna(mean_val)"
   ]
  },
  {
   "cell_type": "code",
   "execution_count": 22,
   "id": "2b9fce5a",
   "metadata": {},
   "outputs": [
    {
     "data": {
      "text/html": [
       "<div>\n",
       "<style scoped>\n",
       "    .dataframe tbody tr th:only-of-type {\n",
       "        vertical-align: middle;\n",
       "    }\n",
       "\n",
       "    .dataframe tbody tr th {\n",
       "        vertical-align: top;\n",
       "    }\n",
       "\n",
       "    .dataframe thead th {\n",
       "        text-align: right;\n",
       "    }\n",
       "</style>\n",
       "<table border=\"1\" class=\"dataframe\">\n",
       "  <thead>\n",
       "    <tr style=\"text-align: right;\">\n",
       "      <th></th>\n",
       "      <th>sl_no</th>\n",
       "      <th>name</th>\n",
       "      <th>qualification</th>\n",
       "      <th>phone</th>\n",
       "      <th>address</th>\n",
       "    </tr>\n",
       "  </thead>\n",
       "  <tbody>\n",
       "    <tr>\n",
       "      <th>0</th>\n",
       "      <td>1</td>\n",
       "      <td>adi</td>\n",
       "      <td>msc</td>\n",
       "      <td>1.589637e+06</td>\n",
       "      <td>xyz</td>\n",
       "    </tr>\n",
       "    <tr>\n",
       "      <th>1</th>\n",
       "      <td>2</td>\n",
       "      <td>ram</td>\n",
       "      <td>mca</td>\n",
       "      <td>7.895624e+07</td>\n",
       "      <td>sullia</td>\n",
       "    </tr>\n",
       "    <tr>\n",
       "      <th>2</th>\n",
       "      <td>3</td>\n",
       "      <td>shree</td>\n",
       "      <td>mba</td>\n",
       "      <td>5.050843e+07</td>\n",
       "      <td>jjjj</td>\n",
       "    </tr>\n",
       "    <tr>\n",
       "      <th>3</th>\n",
       "      <td>4</td>\n",
       "      <td>raj</td>\n",
       "      <td>be</td>\n",
       "      <td>5.898565e+06</td>\n",
       "      <td>lllllll</td>\n",
       "    </tr>\n",
       "    <tr>\n",
       "      <th>4</th>\n",
       "      <td>5</td>\n",
       "      <td>geeta</td>\n",
       "      <td>bca</td>\n",
       "      <td>5.050843e+07</td>\n",
       "      <td>pppppp</td>\n",
       "    </tr>\n",
       "    <tr>\n",
       "      <th>5</th>\n",
       "      <td>6</td>\n",
       "      <td>lata</td>\n",
       "      <td>bba</td>\n",
       "      <td>5.457878e+06</td>\n",
       "      <td>ddddd</td>\n",
       "    </tr>\n",
       "    <tr>\n",
       "      <th>6</th>\n",
       "      <td>7</td>\n",
       "      <td>seeta</td>\n",
       "      <td>bcom</td>\n",
       "      <td>2.556487e+06</td>\n",
       "      <td>aaaaa</td>\n",
       "    </tr>\n",
       "    <tr>\n",
       "      <th>7</th>\n",
       "      <td>8</td>\n",
       "      <td>ratna</td>\n",
       "      <td>bca</td>\n",
       "      <td>4.545444e+06</td>\n",
       "      <td>sullia</td>\n",
       "    </tr>\n",
       "    <tr>\n",
       "      <th>8</th>\n",
       "      <td>9</td>\n",
       "      <td>raji</td>\n",
       "      <td>mca</td>\n",
       "      <td>2.545548e+08</td>\n",
       "      <td>hhhhhhh</td>\n",
       "    </tr>\n",
       "  </tbody>\n",
       "</table>\n",
       "</div>"
      ],
      "text/plain": [
       "   sl_no   name qualification         phone  address\n",
       "0      1    adi           msc  1.589637e+06      xyz\n",
       "1      2    ram           mca  7.895624e+07   sullia\n",
       "2      3  shree           mba  5.050843e+07     jjjj\n",
       "3      4    raj            be  5.898565e+06  lllllll\n",
       "4      5  geeta           bca  5.050843e+07   pppppp\n",
       "5      6   lata           bba  5.457878e+06    ddddd\n",
       "6      7  seeta          bcom  2.556487e+06    aaaaa\n",
       "7      8  ratna           bca  4.545444e+06   sullia\n",
       "8      9   raji           mca  2.545548e+08  hhhhhhh"
      ]
     },
     "execution_count": 22,
     "metadata": {},
     "output_type": "execute_result"
    }
   ],
   "source": [
    "data"
   ]
  },
  {
   "cell_type": "code",
   "execution_count": 23,
   "id": "c298ca78",
   "metadata": {},
   "outputs": [],
   "source": [
    "import pandas as pd\n",
    "array=np.array([[1,1,1],[2,3,8],[3,4,27],])"
   ]
  },
  {
   "cell_type": "code",
   "execution_count": 24,
   "id": "5a539e29",
   "metadata": {},
   "outputs": [],
   "source": [
    "index_values=['row1','row2','row3']"
   ]
  },
  {
   "cell_type": "code",
   "execution_count": 25,
   "id": "2c40a345",
   "metadata": {},
   "outputs": [],
   "source": [
    "column_values=['col','col2','col3']"
   ]
  },
  {
   "cell_type": "code",
   "execution_count": 30,
   "id": "71c482f2",
   "metadata": {},
   "outputs": [],
   "source": [
    "df=pd.DataFrame(data=array,\n",
    "index=index_values,\n",
    "columns=column_values)"
   ]
  },
  {
   "cell_type": "code",
   "execution_count": 31,
   "id": "2645437a",
   "metadata": {},
   "outputs": [
    {
     "name": "stdout",
     "output_type": "stream",
     "text": [
      "      col  col2  col3\n",
      "row1    1     1     1\n",
      "row2    2     3     8\n",
      "row3    3     4    27\n"
     ]
    }
   ],
   "source": [
    "print(df)"
   ]
  },
  {
   "cell_type": "code",
   "execution_count": 32,
   "id": "5c557f51",
   "metadata": {},
   "outputs": [],
   "source": [
    "trace=np.trace(df)"
   ]
  },
  {
   "cell_type": "code",
   "execution_count": 33,
   "id": "60331cde",
   "metadata": {},
   "outputs": [
    {
     "name": "stdout",
     "output_type": "stream",
     "text": [
      "Trace of the matrix 31\n"
     ]
    }
   ],
   "source": [
    "print(\"Trace of the matrix\",trace)"
   ]
  },
  {
   "cell_type": "code",
   "execution_count": null,
   "id": "14f803aa",
   "metadata": {},
   "outputs": [],
   "source": []
  },
  {
   "cell_type": "code",
   "execution_count": null,
   "id": "777b9f89",
   "metadata": {},
   "outputs": [],
   "source": []
  },
  {
   "cell_type": "code",
   "execution_count": null,
   "id": "7e768a93",
   "metadata": {},
   "outputs": [],
   "source": []
  },
  {
   "cell_type": "code",
   "execution_count": null,
   "id": "601e1a16",
   "metadata": {},
   "outputs": [],
   "source": []
  },
  {
   "cell_type": "code",
   "execution_count": null,
   "id": "bfcea3a3",
   "metadata": {},
   "outputs": [],
   "source": []
  },
  {
   "cell_type": "code",
   "execution_count": null,
   "id": "b0a06ea9",
   "metadata": {},
   "outputs": [],
   "source": []
  },
  {
   "cell_type": "code",
   "execution_count": null,
   "id": "c4a53e2e",
   "metadata": {},
   "outputs": [],
   "source": []
  },
  {
   "cell_type": "code",
   "execution_count": null,
   "id": "bffe95a5",
   "metadata": {},
   "outputs": [],
   "source": []
  },
  {
   "cell_type": "code",
   "execution_count": null,
   "id": "82b93dbe",
   "metadata": {},
   "outputs": [],
   "source": []
  },
  {
   "cell_type": "code",
   "execution_count": null,
   "id": "e973d310",
   "metadata": {},
   "outputs": [],
   "source": []
  },
  {
   "cell_type": "code",
   "execution_count": null,
   "id": "67714d11",
   "metadata": {},
   "outputs": [],
   "source": []
  },
  {
   "cell_type": "code",
   "execution_count": null,
   "id": "08dd3450",
   "metadata": {},
   "outputs": [],
   "source": []
  }
 ],
 "metadata": {
  "kernelspec": {
   "display_name": "Python 3 (ipykernel)",
   "language": "python",
   "name": "python3"
  },
  "language_info": {
   "codemirror_mode": {
    "name": "ipython",
    "version": 3
   },
   "file_extension": ".py",
   "mimetype": "text/x-python",
   "name": "python",
   "nbconvert_exporter": "python",
   "pygments_lexer": "ipython3",
   "version": "3.9.7"
  }
 },
 "nbformat": 4,
 "nbformat_minor": 5
}
